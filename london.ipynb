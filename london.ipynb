{
 "cells": [
  {
   "cell_type": "code",
   "execution_count": 10,
   "metadata": {},
   "outputs": [
    {
     "name": "stdout",
     "output_type": "stream",
     "text": [
      "No property listings found on the page.\n"
     ]
    }
   ],
   "source": [
    "\n",
    "import requests\n",
    "from bs4 import BeautifulSoup\n",
    "\n",
    "# URL of the Property Finder website\n",
    "url = \"https://www.propertyfinder.com/\"\n",
    "\n",
    "# Send a GET request to the website\n",
    "response = requests.get(url)\n",
    "\n",
    "# Check if the request was successful (status code 200)\n",
    "if response.status_code == 200:\n",
    "    # Parse the HTML content of the page\n",
    "    soup = BeautifulSoup(response.content, 'html.parser')\n",
    "\n",
    "    # Find all property listings on the page\n",
    "    listings = soup.find_all('div', class_='card-list__item')\n",
    "\n",
    "    # Check if any property listings were found\n",
    "    if listings:\n",
    "        # Iterate through each property listing\n",
    "        for listing in listings:\n",
    "            # Extract property details (example: title and price)\n",
    "            title_element = listing.find('h2', class_='card__title')\n",
    "            price_element = listing.find('span', class_='card__price-value')\n",
    "            \n",
    "            # Check if both title and price elements are found\n",
    "            if title_element and price_element:\n",
    "                # Extract text from title and price elements\n",
    "                title = title_element.text.strip()\n",
    "                price = price_element.text.strip()\n",
    "                \n",
    "                # Print property details\n",
    "                print(\"Title:\", title)\n",
    "                print(\"Price:\", price)\n",
    "                print(\"=\"*50)\n",
    "            else:\n",
    "                print(\"Failed to extract property details from a listing.\")\n",
    "    else:\n",
    "        print(\"No property listings found on the page.\")\n",
    "else:\n",
    "    print(\"Failed to retrieve data. Status code:\", response.status_code)\n"
   ]
  },
  {
   "cell_type": "code",
   "execution_count": 11,
   "metadata": {},
   "outputs": [
    {
     "name": "stdout",
     "output_type": "stream",
     "text": [
      "Failed to retrieve data. Status code: 404\n"
     ]
    }
   ],
   "source": [
    "\n",
    "import requests\n",
    "from bs4 import BeautifulSoup\n",
    "\n",
    "# URL of Allsop's property listings page\n",
    "url = \"https://www.allsop.co.uk/properties/\"\n",
    "\n",
    "# Send a GET request to the website\n",
    "response = requests.get(url)\n",
    "\n",
    "# Check if the request was successful (status code 200)\n",
    "if response.status_code == 200:\n",
    "    # Parse the HTML content of the page\n",
    "    soup = BeautifulSoup(response.content, 'html.parser')\n",
    "\n",
    "    # Find all property listings on the page\n",
    "    listings = soup.find_all('div', class_='property-listing')\n",
    "\n",
    "    # Iterate through each property listing\n",
    "    for listing in listings:\n",
    "        # Extract property details (example: address and price)\n",
    "        address = listing.find('div', class_='address').text.strip()\n",
    "        price = listing.find('div', class_='price').text.strip()\n",
    "        \n",
    "        # Check if the property is a repossession (example: look for specific keywords)\n",
    "        # repossession_indicator = listing.find(...) \n",
    "\n",
    "        # Print property details\n",
    "        print(\"Address:\", address)\n",
    "        print(\"Price:\", price)\n",
    "        print(\"=\" * 50)\n",
    "\n",
    "else:\n",
    "    print(\"Failed to retrieve data. Status code:\", response.status_code)\n"
   ]
  }
 ],
 "metadata": {
  "kernelspec": {
   "display_name": "Python 3",
   "language": "python",
   "name": "python3"
  },
  "language_info": {
   "codemirror_mode": {
    "name": "ipython",
    "version": 3
   },
   "file_extension": ".py",
   "mimetype": "text/x-python",
   "name": "python",
   "nbconvert_exporter": "python",
   "pygments_lexer": "ipython3",
   "version": "3.11.5"
  }
 },
 "nbformat": 4,
 "nbformat_minor": 2
}
